{
 "cells": [
  {
   "cell_type": "markdown",
   "id": "parental-paintball",
   "metadata": {},
   "source": [
    "## Setup"
   ]
  },
  {
   "cell_type": "code",
   "execution_count": 1,
   "id": "copyrighted-cover",
   "metadata": {},
   "outputs": [],
   "source": [
    "%config Completer.use_jedi = False\n",
    "\n",
    "import os\n",
    "\n",
    "# selenium for downloading amazon reports\n",
    "from selenium import webdriver\n",
    "from selenium.webdriver.support.ui import WebDriverWait\n",
    "from selenium.webdriver.common.keys import Keys\n",
    "\n",
    "from amazoncaptcha import AmazonCaptcha\n",
    "\n",
    "import subprocess  # for shell commands to Onepassword\n",
    "from getpass import getpass\n",
    "import json\n",
    "import pandas as pd\n",
    "import numpy as np\n",
    "import pathlib\n",
    "import time\n",
    "import datetime\n",
    "from distutils import spawn\n",
    "\n",
    "import pandas as pd\n",
    "import numpy as np\n",
    "import json\n",
    "import os\n",
    "import requests\n",
    "from pprint import pprint\n",
    "from time import strftime, strptime\n",
    "from datetime import datetime, timedelta"
   ]
  },
  {
   "cell_type": "code",
   "execution_count": 3,
   "id": "broad-power",
   "metadata": {},
   "outputs": [],
   "source": [
    "# make sure program directory has a place to download csvs, \n",
    "# then step into that dir\n",
    "DOWNLOAD_DIR = os.path.join(os.getcwd(), \"download\")\n",
    "if not os.path.exists(DOWNLOAD_DIR):\n",
    "    os.makedirs(DOWNLOAD_DIR)\n",
    "\n",
    "os.chdir(DOWNLOAD_DIR)"
   ]
  },
  {
   "cell_type": "markdown",
   "id": "external-slave",
   "metadata": {},
   "source": [
    "## Function Definitions"
   ]
  },
  {
   "cell_type": "code",
   "execution_count": 346,
   "id": "sharp-toolbox",
   "metadata": {},
   "outputs": [],
   "source": [
    "# 1Password functions: -----------------------------\n",
    "def get_op_session_token(pw):\n",
    "    \"\"\"Generate OnePassword Session Token\n",
    "\n",
    "    Args:\n",
    "        pw (str): your onepassword master password\n",
    "\n",
    "    Returns:\n",
    "        str: your onepassword session token; works for 30 minutes.\n",
    "    \"\"\"\n",
    "    pw_b = pw.encode('utf-8')\n",
    "    cmd = \"op signin my --raw\".split()\n",
    "    \n",
    "    out = subprocess.run(cmd, input=pw_b, capture_output=True)\n",
    "    if out.stdout:\n",
    "        op_token = out.stdout.decode('utf-8').rstrip()\n",
    "    else:\n",
    "        err = out.stderr.decode('utf-8').rstrip()\n",
    "        raise Exception(err)\n",
    "\n",
    "    return op_token\n",
    "\n",
    "\n",
    "def get_op_totp(item, session_token):\n",
    "    cmd = f\"op get totp {item} --session {session_token}\".split()\n",
    "    return subprocess.run(cmd, capture_output=True, text=True).stdout.rstrip()\n",
    "\n",
    "\n",
    "def get_op_field(item, field, session_token):\n",
    "    cmd = (\n",
    "        f\"op get item {item} --fields {field} --session {session_token}\"\n",
    "        .split()\n",
    "    )\n",
    "    return subprocess.run(cmd, capture_output=True, text=True).stdout.rstrip()\n",
    "\n",
    "\n",
    "# Selenium functions ------------------------------------------------\n",
    "def download_amz_report(which_report, op_token, download_dir=os.getcwd()):\n",
    "    \"\"\"\n",
    "    Use Selenium to download an Amazon B2B report from \n",
    "    https://www.amazon.com/gp/b2b/reports. Saves to CSV.\n",
    "\n",
    "    Args:\n",
    "        which_report (str): either \"items\" or \"orders\"\n",
    "        download_dir (str, optional): path to download directory. \n",
    "                                      Defaults to os.getcwd().\n",
    "\n",
    "    Returns:\n",
    "        None\n",
    "    \"\"\"\n",
    "    assert which_report in [\"items\", \"orders\"]\n",
    "\n",
    "    # set up options for where to download the report\n",
    "    chrome_options = webdriver.ChromeOptions()\n",
    "    # chrome_options.add_argument(\"--headless\")\n",
    "    chrome_options.add_argument(\"--verbose\")\n",
    "    prefs = { \"download.default_directory\" : download_dir }\n",
    "    chrome_options.add_experimental_option(\"prefs\", prefs)\n",
    "\n",
    "    # initiate the webdriver\n",
    "    chromedriver = spawn.find_executable(\"chromedriver\")\n",
    "    driver = webdriver.Chrome(chromedriver, options=chrome_options)\n",
    "\n",
    "    driver.get(\"https://www.amazon.com/gp/b2b/reports\")\n",
    "    driver.find_element_by_id(\"ap_email\").send_keys(get_op_field(\"Amazon\", \"username\", op_token))\n",
    "    driver.find_element_by_id(\"continue\").click()\n",
    "    time.sleep(np.random.random() * 10)\n",
    "    driver.find_element_by_id(\"ap_password\").send_keys(get_op_field(\"Amazon\", \"password\", op_token))\n",
    "    driver.find_element_by_id(\"signInSubmit\").click()\n",
    "    time.sleep(np.random.random() * 10)\n",
    "    driver.find_element_by_id(\"auth-mfa-otpcode\").send_keys(get_op_totp(\"Amazon\", op_token))\n",
    "    driver.find_element_by_id(\"auth-signin-button\").click()\n",
    "    time.sleep(np.random.random() * 10)\n",
    "    driver.find_element_by_id(\"report-type\").send_keys([which_report, Keys.RETURN])\n",
    "    driver.find_element_by_id(\"report-last30Days\").click()\n",
    "    driver.find_element_by_id(\"report-type\").click()\n",
    "    driver.find_element_by_id(\"report-confirm\").click()\n",
    "\n",
    "    time.sleep(np.random.random() * 10)\n",
    "\n",
    "    def get_latest_csv():\n",
    "        files = [f for f in os.listdir() if f.endswith(\".csv\") or f.endswith(\".CSV\")]\n",
    "        return max(files, key=os.path.getctime)\n",
    "\n",
    "    file = get_latest_csv()\n",
    "    os.rename(file, f\"{which_report}.csv\")\n",
    "    print(f\"Renamed {file} to {which_report}.csv\")\n",
    "    driver.quit()\n",
    "\n",
    "\n",
    "\n",
    "def load_and_process_amz_csv(csv):\n",
    "    df = pd.read_csv(csv)\n",
    "    r, c = df.shape\n",
    "    print(f\"Loaded {r} rows and {c} columns from {csv}.\")\n",
    "    \n",
    "    # cast all colnames to lowercase and replace spaces with underscores\n",
    "    df.columns = [c.lower().replace(\" \", \"_\") for c in df.columns]\n",
    "\n",
    "    # identify money related columns based on keywords\n",
    "    keywords = [\"total\", \"charge\", \"amount\"]\n",
    "    moneycols = df.columns[\n",
    "        df.columns.str.contains(\"|\".join(keywords))\n",
    "    ]\n",
    "\n",
    "    # format money columns like YNAB: $10.00 charge = -1000\n",
    "    def reformat_moneycols_like_ynab(c):\n",
    "        return (\n",
    "            c.str.replace(\"$\", \"\", regex=False)\n",
    "            .astype(float)\n",
    "            .multiply(-1000)\n",
    "            .astype(int)\n",
    "        )\n",
    "\n",
    "    df[moneycols] = (\n",
    "        df[moneycols].apply(reformat_moneycols_like_ynab, axis=1)\n",
    "    )\n",
    "    print(f\"Converted columns {', '.join(moneycols)} to YNAB currency format.\")\n",
    "\n",
    "    # reformat date columns to datetime:\n",
    "    datecols = df.columns[df.columns.str.contains(\"date\")]\n",
    "    df[datecols] = df[datecols].apply(lambda x: pd.to_datetime(x))\n",
    "    print(f\"Converted columns {', '.join(datecols)} to pandas datetime format.\")\n",
    "\n",
    "    return df\n",
    "\n",
    "\n",
    "\n",
    "# YNAB FUNCTIONS ==================================================\n",
    "def get_ynab_transactions(budget_id, token, since_date=None):\n",
    "    base_url = \"https://api.youneedabudget.com/v1\"\n",
    "    request_url = f\"{base_url}/budgets/{budget_id}/transactions\"\n",
    "    r = requests.get(request_url, params = {\"access_token\": token, \"since_date\": since_date})\n",
    "    if since_date:\n",
    "        print(f\"Downloading transactions from YNAB API since {since_date}...\")\n",
    "    else:\n",
    "        print(f\"Downloading all transactions from YNAB API...\")\n",
    "\n",
    "    print(r)\n",
    "    j = json.loads(r.text)\n",
    "    ynab_tx = pd.json_normalize(j['data']['transactions'])\n",
    "    return ynab_tx\n",
    "\n",
    "\n",
    "def upload_tx_to_ynab(ynab_tx, budget_id, token):\n",
    "    base_url = \"https://api.youneedabudget.com/v1\"\n",
    "    request_url = f\"{base_url}/budgets/{budget_id}/transactions\"\n",
    "\n",
    "    ynab_tx_js = ynab_tx.to_json(orient='records')\n",
    "    ynab_j = json.loads(ynab_tx_js)\n",
    "\n",
    "    j = json.dumps({\n",
    "        \"transactions\": ynab_j\n",
    "    })\n",
    "\n",
    "    js = json.loads(j)\n",
    "\n",
    "    r = requests.patch(\n",
    "        request_url, \n",
    "        data=j, \n",
    "        headers={\n",
    "            \"Authorization\": f\"Bearer {token}\", \n",
    "            'Content-Type':'application/json'\n",
    "        }\n",
    "    )\n",
    "\n",
    "    print(\"YNAB API Response:\")\n",
    "    print(r)"
   ]
  },
  {
   "cell_type": "markdown",
   "id": "operational-symposium",
   "metadata": {},
   "source": [
    "## Log into OP and Get Creds"
   ]
  },
  {
   "cell_type": "code",
   "execution_count": 171,
   "id": "composed-corner",
   "metadata": {},
   "outputs": [
    {
     "name": "stdout",
     "output_type": "stream",
     "text": [
      "Enter OP Master Password: ········\n"
     ]
    }
   ],
   "source": [
    "op_token = get_op_session_token(pw=getpass(\"Enter OP Master Password: \"))"
   ]
  },
  {
   "cell_type": "markdown",
   "id": "corporate-contributor",
   "metadata": {},
   "source": [
    "## Get Reports with Selenium"
   ]
  },
  {
   "cell_type": "code",
   "execution_count": 472,
   "id": "lyric-sequence",
   "metadata": {
    "scrolled": true
   },
   "outputs": [
    {
     "name": "stdout",
     "output_type": "stream",
     "text": [
      "Items CSV exists, skipping download\n",
      "Orders CSV exists, skipping download\n",
      "Loaded 8 rows and 23 columns from orders.csv.\n",
      "Converted columns subtotal, shipping_charge, total_promotions, tax_charged, total_charged to YNAB currency format.\n",
      "Converted columns order_date, shipment_date to pandas datetime format.\n",
      "Loaded 11 rows and 36 columns from items.csv.\n",
      "Converted columns item_subtotal, item_subtotal_tax, item_total to YNAB currency format.\n",
      "Converted columns order_date, release_date, shipment_date to pandas datetime format.\n"
     ]
    }
   ],
   "source": [
    "# download the items and orders csvs -- only if necessary\n",
    "if not os.path.exists('items.csv'):\n",
    "    print(\"Getting Amazon Items Report... This might take a bit...\")\n",
    "    download_amz_report(which_report=\"items\", op_token=op_token)\n",
    "else:\n",
    "    print(\"Items CSV exists, skipping download\")\n",
    "if not os.path.exists('orders.csv'):\n",
    "    print(\"Getting Amazon Orders Report... This might take a bit...\")\n",
    "    download_amz_report(which_report=\"orders\", op_token=op_token)\n",
    "else:\n",
    "    print(\"Orders CSV exists, skipping download\")\n",
    "\n",
    "orders = (\n",
    "    load_and_process_amz_csv('orders.csv')\n",
    "    .groupby('order_id')\n",
    "    .agg({\"total_charged\": sum})\n",
    "    .reset_index()\n",
    ")\n",
    "\n",
    "items = load_and_process_amz_csv('items.csv')"
   ]
  },
  {
   "cell_type": "markdown",
   "id": "north-transparency",
   "metadata": {},
   "source": [
    "## Group Amazon Transactions by Order ID\n",
    "This section groups the transactions found in the items report and order report by order id, such that each record contains the individual item information as well as its corresponding order membership. \n",
    "\n",
    "Then it performs some aggregating, getting ultimately each order group's total amount, an appropriate memo, and, where applicable, arrays of subtransactions."
   ]
  },
  {
   "cell_type": "code",
   "execution_count": 483,
   "id": "searching-effort",
   "metadata": {},
   "outputs": [],
   "source": [
    "amz_merged = pd.merge(items, orders)\n",
    "amz_merged['subtransactions'] = (\n",
    "    amz_merged.apply(lambda x: {\"amount\": x.item_total,\n",
    "                                \"memo\": x.title}, axis=1)\n",
    ")\n",
    "\n",
    "amz_merged = amz_merged.rename(columns={\"title\": \"memo\"})\n",
    "\n",
    "amz_merged['item_count'] = 1\n",
    "\n",
    "amz_merged = (\n",
    "    amz_merged\n",
    "    .groupby('order_id')\n",
    "    .agg({\n",
    "        \"total_charged\": np.mean\n",
    "        , \"subtransactions\": list\n",
    "        , \"item_count\": sum\n",
    "        , \"memo\": list\n",
    "    })\n",
    "    .reset_index(drop=True)\n",
    ")\n",
    "\n",
    "\n",
    "amz_merged.subtransactions = (\n",
    "    amz_merged\n",
    "    .apply(lambda x: [] if x.item_count == 1 else x.subtransactions, \n",
    "           axis=1)\n",
    ")\n",
    "\n",
    "amz_merged['memo'] = (\n",
    "    amz_merged.apply(lambda x: f\"({x.item_count} items)\" \n",
    "                     if x.item_count > 1 \n",
    "                     else x.memo[0],\n",
    "                     axis=1)\n",
    ")\n",
    "\n",
    "\n",
    "amz_merged = amz_merged[['total_charged', 'memo', 'subtransactions']]"
   ]
  },
  {
   "cell_type": "markdown",
   "id": "killing-verse",
   "metadata": {},
   "source": [
    "## Get YNAB Transactions"
   ]
  },
  {
   "cell_type": "code",
   "execution_count": 475,
   "id": "medical-disaster",
   "metadata": {
    "scrolled": false
   },
   "outputs": [
    {
     "name": "stdout",
     "output_type": "stream",
     "text": [
      "Enter OP Master Password: ········\n",
      "Downloading transactions from YNAB API since 2021-03-25...\n",
      "<Response [200]>\n"
     ]
    }
   ],
   "source": [
    "op_token = get_op_session_token(pw=getpass(\"Enter OP Master Password: \"))\n",
    "\n",
    "YNAB_KEY = get_op_field(item='YNAB', field=\"API_TOKEN\", session_token=op_token)\n",
    "YNAB_BUDGET_ID = get_op_field(item='YNAB', field='BUDGET_ID', session_token=op_token)\n",
    "\n",
    "# set a date 7 days before the earliest transaction in the amazon\n",
    "# reports to make sure we get all the relevant YNAB transactions\n",
    "ynab_since_date = (\n",
    "    ( min(orders_memoized.order_date) - timedelta(days=7) )\n",
    "    .strftime(\"%Y-%m-%d\")\n",
    ")\n",
    "\n",
    "# YNAB transactions -------------------------------------------------------\n",
    "ynab_tx = get_ynab_transactions(\n",
    "    budget_id=YNAB_BUDGET_ID,\n",
    "    since_date=ynab_since_date,\n",
    "    token=YNAB_KEY\n",
    ")"
   ]
  },
  {
   "cell_type": "code",
   "execution_count": 480,
   "id": "failing-negotiation",
   "metadata": {},
   "outputs": [],
   "source": [
    "ynab_tx_amz_new = (\n",
    "    ynab_tx\n",
    "    .query(\"account_name.str.contains('AMZ')\")\n",
    "    .query(\"category_name == 'Uncategorized'\")\n",
    "    .reset_index(drop=True)\n",
    ")"
   ]
  },
  {
   "cell_type": "markdown",
   "id": "smart-pioneer",
   "metadata": {},
   "source": [
    "## Populate YNAB Records with Subtransactions"
   ]
  },
  {
   "cell_type": "code",
   "execution_count": 481,
   "id": "marine-senior",
   "metadata": {},
   "outputs": [],
   "source": [
    "ynab_matched_tx = (\n",
    "    pd.merge(ynab_tx_amz_new,\n",
    "             amz_merged, \n",
    "             how='left',\n",
    "             left_on='amount',\n",
    "             right_on='total_charged')\n",
    ")\n",
    "\n",
    "ynab_matched_tx = (\n",
    "    ynab_matched_tx\n",
    "    .rename(columns={\"memo_y\": \"memo\", \n",
    "                     \"subtransactions_y\": \"subtransactions\"})\n",
    "    [['id', 'memo', 'subtransactions', 'flag_color']]\n",
    ")\n",
    "\n",
    "ynab_matched_tx.memo = (\n",
    "    ynab_matched_tx.memo.replace(np.nan, np.nan, regex=True)\n",
    ")\n",
    "\n",
    "ynab_matched_tx.subtransactions = (\n",
    "    ynab_matched_tx.subtransactions.apply(lambda x: [] \n",
    "                                          if x is np.nan \n",
    "                                          else x)\n",
    ")\n",
    "\n",
    "ynab_matched_tx.flag_color = (\n",
    "    ynab_matched_tx.apply(lambda x: \"red\" \n",
    "                          if x.memo is np.nan \n",
    "                          else None, axis=1)\n",
    ")\n"
   ]
  },
  {
   "cell_type": "markdown",
   "id": "surface-senator",
   "metadata": {},
   "source": [
    "## Upload the New Transaction Memos to YNAB\n",
    "\n",
    "The below uploads just the {transaction id: memo} pairs back to YNAB via API PATCH method."
   ]
  },
  {
   "cell_type": "code",
   "execution_count": 479,
   "id": "descending-providence",
   "metadata": {
    "scrolled": false
   },
   "outputs": [
    {
     "name": "stdout",
     "output_type": "stream",
     "text": [
      "YNAB API Response:\n",
      "<Response [200]>\n"
     ]
    }
   ],
   "source": [
    "upload_tx_to_ynab(ynab_tx=ynab_matched_tx[['id', 'memo', 'subtransactions', 'flag_color']], \n",
    "                  budget_id=YNAB_BUDGET_ID,\n",
    "                  token=YNAB_KEY)"
   ]
  },
  {
   "cell_type": "code",
   "execution_count": 131,
   "id": "legal-carnival",
   "metadata": {},
   "outputs": [],
   "source": [
    "def upload_tx_to_ynab(ynab_tx, budget_id, token):\n",
    "    base_url = \"https://api.youneedabudget.com/v1\"\n",
    "    request_url = f\"{base_url}/budgets/{budget_id}/transactions\"\n",
    "\n",
    "    ynab_tx_js = ynab_tx.to_json(orient='records')\n",
    "    ynab_j = json.loads(ynab_tx_js)\n",
    "\n",
    "    j = json.dumps({\n",
    "        \"transactions\": ynab_j\n",
    "    })\n",
    "\n",
    "    js = json.loads(j)\n",
    "\n",
    "    r = requests.patch(\n",
    "        request_url, \n",
    "        data=j, \n",
    "        headers={\n",
    "            \"Authorization\": f\"Bearer {token}\", \n",
    "            'Content-Type':'application/json'\n",
    "        }\n",
    "    )\n",
    "\n",
    "    print(\"YNAB API Response:\")\n",
    "    print(r)"
   ]
  }
 ],
 "metadata": {
  "kernelspec": {
   "display_name": "Python 3",
   "language": "python",
   "name": "python3"
  },
  "language_info": {
   "codemirror_mode": {
    "name": "ipython",
    "version": 3
   },
   "file_extension": ".py",
   "mimetype": "text/x-python",
   "name": "python",
   "nbconvert_exporter": "python",
   "pygments_lexer": "ipython3",
   "version": "3.8.5"
  }
 },
 "nbformat": 4,
 "nbformat_minor": 5
}
